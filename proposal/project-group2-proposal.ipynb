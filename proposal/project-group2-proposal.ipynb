{
 "cells": [
  {
   "cell_type": "markdown",
   "id": "ff8a76c8",
   "metadata": {},
   "source": [
    "# CSCI 2000U - Scientific Data Analysis\n",
    "## Final Project Proposal"
   ]
  },
  {
   "cell_type": "raw",
   "id": "80e68e1f",
   "metadata": {},
   "source": [
    "Group/Individual Names:\n",
    "\n",
    "Adam Callahan, Trevor Lee, Angus Murchison"
   ]
  },
  {
   "cell_type": "markdown",
   "id": "8fb56169",
   "metadata": {},
   "source": [
    "## The dataset\n",
    "**Temperature Change**\n",
    "\n",
    "*Source: https://www.kaggle.com/sevgisarac/temperature-change*\n",
    "\n",
    "The FAOSTAT Temperature Change data set is a collection of the average change of temperature of 190 countries and 37 territories, in Celsius,  recorded monthly from 1961-2019, giving the annual, seasonal and monthly temperature outliers with respect to the 1951-1980 recordings. \n",
    "\n",
    "- Area Code - The numerical code of area column, type of area code is an integer\n",
    "- Area - Countries and Territories (In 2019: 190 countries and 37 other territorial entities.), type of area is an object\n",
    "- Months Code - The numerical code of months column, type of months code is an integer\n",
    "- Months - Months, Seasons, Meteorological year, type of months is an object\n",
    "- Element Code - The numerical code of element column, type of element code is an integer\n",
    "- Element - 'Temperature change', 'Standard Deviation', type of element is an object\n",
    "- Unit - Celsius degrees °C, type of unit is an object\n",
    "- #Y1961 - Mean Surface Temperature change in the year 1961\n",
    "- #Y1962 - Mean Surface Temperature change in the year 1962\n",
    "- ...\n",
    "- #Y2019 - Mean Surface Temperature change in the year 2019\n",
    "\n",
    "**Motivation**\n",
    "\n",
    "Climate change is a very critical and ever-looming issue which many of us remain powerless over and can do nothing about but watch. It is because of this existential threatening nature, that makes it a very rewarding and reasonable data set to be interested in and analyze. We hope our findings from our results can give us some insight into what geographical and societal problem properties of countries may be in any way correlated to climate change and prove the threat this issue poses by showing what the future may look like if nothing is done about it. More specifically, with this data, we plan to derive how climate fluctuates from period to period depending on the geographical location and how much the climate has changed as the global population and pollution has increased. Some other datasets we were interested in were Chess games datasets, popular music datasets, and solar power generation datasets however this temperature change dataset stuck out to us for previously mentioned reasons.\n",
    "\n",
    "**Code**\n",
    "\n",
    "Import data"
   ]
  },
  {
   "cell_type": "code",
   "execution_count": 1,
   "id": "ef1eb381",
   "metadata": {},
   "outputs": [],
   "source": [
    "#importing used libraries\n",
    "import csv\n",
    "import re\n",
    "from functools import reduce\n",
    "import numpy as np\n",
    "\n",
    "# this aux function reads the CSV file and returns the data in a Python dictionary\n",
    "def get_data_csv():\n",
    "    collection = []\n",
    "    with open('Environment_Temperature_change_E_All_Data_NOFLAG.csv', 'r') as f:\n",
    "        for line in csv.DictReader(f):\n",
    "            collection.append(line)\n",
    "        return collection\n",
    "        \n",
    "# the data    \n",
    "data = get_data_csv()"
   ]
  },
  {
   "cell_type": "markdown",
   "id": "74ddc8f5",
   "metadata": {},
   "source": [
    "**Getting to know your data**\n",
    "\n",
    "How many records are there?"
   ]
  },
  {
   "cell_type": "code",
   "execution_count": 2,
   "id": "5b067dc5",
   "metadata": {},
   "outputs": [
    {
     "name": "stdout",
     "output_type": "stream",
     "text": [
      "There are 4828.0 records\n"
     ]
    }
   ],
   "source": [
    "#len()/2 because there is a line for both temperature and standard deviation for every row\n",
    "print(\"There are\", len(data)/2, \"records\")"
   ]
  },
  {
   "cell_type": "markdown",
   "id": "16201a11",
   "metadata": {},
   "source": [
    "How many unique values are there?"
   ]
  },
  {
   "cell_type": "code",
   "execution_count": 3,
   "id": "6f2132c1",
   "metadata": {},
   "outputs": [
    {
     "name": "stdout",
     "output_type": "stream",
     "text": [
      "There are 284 unique area values\n"
     ]
    }
   ],
   "source": [
    "#use sets to hold only unique values, then get length\n",
    "areas = set()\n",
    "for i in range(len(data)):\n",
    "    areas.add(data[i]['Area'])\n",
    "\n",
    "print(\"There are\", len(areas), \"unique area values\")\n",
    "#areas"
   ]
  },
  {
   "cell_type": "markdown",
   "id": "9fa6cd6e",
   "metadata": {},
   "source": [
    "What is the date range?\n",
    "\n",
    "The data ranges from all months/seasons/full years for 58 years from 1961 to 2019\n",
    "\n",
    "How many months/seasons were recorded per year?"
   ]
  },
  {
   "cell_type": "code",
   "execution_count": 4,
   "id": "008d0230",
   "metadata": {},
   "outputs": [
    {
     "name": "stdout",
     "output_type": "stream",
     "text": [
      "There are 17 recorded time periods per year (some overlap)\n"
     ]
    }
   ],
   "source": [
    "month_codes = set()\n",
    "for i in range(len(data)):\n",
    "    month_codes.add(data[i]['Months'])\n",
    "    \n",
    "\n",
    "print(\"There are\", len(month_codes), \"recorded time periods per year (some overlap)\")"
   ]
  },
  {
   "cell_type": "markdown",
   "id": "5f6ba059",
   "metadata": {},
   "source": [
    "**Questions**\n",
    "\n",
    "1. How much of a difference, if any, has climate change affected the yearly temperature fluctuations of first-world countries compared to third-world countries? Using Canada, the United Kingdom, and Japan for first-world countries and Afghanistan, Madagascar, and Bolivia for the third-world countries.\n",
    "    - This can be achieved by analyzing each country’s average standard temperature deviation for the time periods of 1961-1966 and 2014-2019. From here we can perform the following analysis for each time period then compare the results to see how climate change has affected yearly temperature fluctuations and if overall country well-being plays any role in it: \n",
    "        * We can check the 2 groups independently to see if there is any correlation between the standard temperature deviation between the countries. \n",
    "        * We can compare the 2 groups together by comparing each group’s average standard temperature deviation.\n",
    "2. How much of a difference, if any, has climate change affected the yearly temperature fluctuations of northern countries compared to countries along the equator? Using Colombia, Kenya, and Indonesia.\n",
    "    - This can be achieved by analyzing each country’s average standard temperature deviation for the time periods of 1961-1966 and 2014-2019. From here we can perform the following analysis for each time period then compare the results to see how climate change has affected yearly temperature fluctuations and if positive latitude plays any role in it: \n",
    "        * We can check the 2 groups independently to see if there is any correlation between the standard temperature deviation between the countries. \n",
    "        * We can compare the 2 groups together by comparing each group’s average standard temperature deviation.\n",
    "3. How have the average temperature fluctuations of Canada’s seasons changed over the years? What does this say about our future?\n",
    "    - This can be achieved by creating a graph of Canada’s standard temperature deviation vs year for each of the seasons. From here we can do a number of things:\n",
    "        * We can identify if any of the seasons have a correlation with their standard temperature deviation over time.\n",
    "        * We can identify a trend line to predict what temperature fluctuation we can expect in the near future.\n",
    "        * We can compare the different season’s graphs to see how climate change affects the different seasons.\n",
    "4. How have yearly temperature fluctuations changed over time for today’s most polluted countries? Using Bangladesh, Pakistan, and India\n",
    "    - This can be achieved by creating a graph of yearly standard temperature deviation vs year for each of the countries. From here we can do a number of things:\n",
    "        * We can identify a trend line to predict what temperature fluctuations we can expect in the near future for each country.\n",
    "        * We can compare the different country’s graphs to see how climate change affects polluted countries.\n",
    "5. How have yearly temperature fluctuations changed over time for today’s most populated countries? Using China, India, and the United States.\n",
    "    - This can be achieved by creating a graph of yearly standard temperature deviation vs year for each of the countries. From here we can do a number of things:\n",
    "        * We can identify a trend line to predict what temperature fluctuations we can expect in the near future for each country.\n",
    "        * We can compare the different country’s graphs to see how climate change affects countries with high populations.\n",
    "\n",
    "**Potential**\n",
    "\n",
    "There is potential to help analyze factors and trends that could be contributing to climate change like location, population, development, etc."
   ]
  }
 ],
 "metadata": {
  "kernelspec": {
   "display_name": "Python 3 (ipykernel)",
   "language": "python",
   "name": "python3"
  },
  "language_info": {
   "codemirror_mode": {
    "name": "ipython",
    "version": 3
   },
   "file_extension": ".py",
   "mimetype": "text/x-python",
   "name": "python",
   "nbconvert_exporter": "python",
   "pygments_lexer": "ipython3",
   "version": "3.8.12"
  }
 },
 "nbformat": 4,
 "nbformat_minor": 5
}
